{
 "cells": [
  {
   "cell_type": "code",
   "execution_count": 1,
   "metadata": {},
   "outputs": [],
   "source": [
    "# 2.1 What Does This Code Do?\n",
    "x = 2\n",
    "y = 3"
   ]
  },
  {
   "cell_type": "markdown",
   "metadata": {},
   "source": [
    "a)This code will print \"x = 2\".\n",
    "b)This code will print \"Value of 2 + 2 is 4\".\n",
    "c)This code will print \"x =\".\n",
    "d)This code will print \"5 = 5\"."
   ]
  },
  {
   "cell_type": "code",
   "execution_count": 3,
   "metadata": {},
   "outputs": [
    {
     "name": "stdout",
     "output_type": "stream",
     "text": [
      "x = 2\n",
      "Value of 2 + 2 is 4\n",
      "x =\n",
      "5 = 5\n"
     ]
    }
   ],
   "source": [
    "#a)\n",
    "print('x =', x)\n",
    "#b)\n",
    "print('Value of', x, '+', x, 'is', (x + x))\n",
    "#c)\n",
    "print('x =')\n",
    "#d)\n",
    "print((x + y), '=', (y + x))"
   ]
  },
  {
   "cell_type": "code",
   "execution_count": 6,
   "metadata": {},
   "outputs": [
    {
     "name": "stdin",
     "output_type": "stream",
     "text": [
      "Enter an integer rating between 1 and 10 6\n"
     ]
    },
    {
     "data": {
      "text/plain": [
       "str"
      ]
     },
     "execution_count": 6,
     "metadata": {},
     "output_type": "execute_result"
    }
   ],
   "source": [
    "# 2.2 What's Wrong with This Code?\n",
    "rating = input('Enter an integer rating between 1 and 10')\n",
    "type(rating)"
   ]
  },
  {
   "cell_type": "markdown",
   "metadata": {},
   "source": [
    "This funtion will always return a string instead of integer. If we want to read an integer, we need to use a function \"int()\"."
   ]
  },
  {
   "cell_type": "code",
   "execution_count": 7,
   "metadata": {},
   "outputs": [
    {
     "name": "stdin",
     "output_type": "stream",
     "text": [
      "Enter an integer rating between 1 and 10 6\n"
     ]
    },
    {
     "data": {
      "text/plain": [
       "int"
      ]
     },
     "execution_count": 7,
     "metadata": {},
     "output_type": "execute_result"
    }
   ],
   "source": [
    "rating = int(input('Enter an integer rating between 1 and 10'))\n",
    "type(rating)"
   ]
  },
  {
   "cell_type": "code",
   "execution_count": 12,
   "metadata": {},
   "outputs": [
    {
     "name": "stdin",
     "output_type": "stream",
     "text": [
      "Enter an integer 10\n"
     ]
    },
    {
     "name": "stdout",
     "output_type": "stream",
     "text": [
      "Even\n"
     ]
    }
   ],
   "source": [
    "# 2.6 Odd or Even?\n",
    "x = int(input('Enter an integer'))\n",
    "if x % 2 == 1:\n",
    "    print('Odd')\n",
    "else :\n",
    "    print('Even')"
   ]
  },
  {
   "cell_type": "code",
   "execution_count": 15,
   "metadata": {},
   "outputs": [
    {
     "name": "stdin",
     "output_type": "stream",
     "text": [
      "Enter 1st integer 1\n",
      "Enter 2nd integer 2\n",
      "Enter 3rd integer 3\n"
     ]
    },
    {
     "name": "stdout",
     "output_type": "stream",
     "text": [
      "The sum is 6\n",
      "The average is 2.0\n",
      "The product is  6\n",
      "The smallest integer is  1\n",
      "The largest integer is  3\n"
     ]
    }
   ],
   "source": [
    "#2.10 Arithmetic, Smallest and Largest\n",
    "x = int(input('Enter 1st integer'))\n",
    "y = int(input('Enter 2nd integer'))\n",
    "z = int(input('Enter 3rd integer'))\n",
    "#Display the sum\n",
    "print(\"The sum is\", x + y + z)\n",
    "#Display the average\n",
    "print(\"The average is\", (x + y + z) / 3)\n",
    "#Display the product\n",
    "print(\"The product is \", x * y * z)\n",
    "#Display the smallest\n",
    "print(\"The smallest integer is \", min(x, y, z))\n",
    "#Display the largest\n",
    "print(\"The largest integer is \", max(x, y, z))"
   ]
  },
  {
   "cell_type": "code",
   "execution_count": 18,
   "metadata": {},
   "outputs": [
    {
     "name": "stdout",
     "output_type": "stream",
     "text": [
      "The amount you have is 1967.1513572895665 after 10 years\n",
      "The amount you have is 3869.6844624861833 after 10 years\n",
      "The amount you have is 7612.255042662042 after 10 years\n"
     ]
    }
   ],
   "source": [
    "#2.12 7% Investment Return\n",
    "p = 1000\n",
    "r = 0.07\n",
    "#After 10 years\n",
    "n = 10\n",
    "a = p * (1 + r) ** n\n",
    "print(\"The amount you have is\", a, \"after 10 years\")\n",
    "#After 20 years\n",
    "n = 20\n",
    "a = p * (1 + r) ** n\n",
    "print(\"The amount you have is\", a, \"after 10 years\")\n",
    "#After 30 years\n",
    "n = 30\n",
    "a = p * (1 + r) ** n\n",
    "print(\"The amount you have is\", a, \"after 10 years\")"
   ]
  },
  {
   "cell_type": "code",
   "execution_count": 19,
   "metadata": {},
   "outputs": [
    {
     "name": "stdout",
     "output_type": "stream",
     "text": [
      "10000000000\n",
      "10000000000000000000000000000000000000000000000000000000000000000000000000000000000000000000000000000\n",
      "10000000000000000000000000000000000000000000000000000000000000000000000000000000000000000000000000000000000000000000000000000000000000000000000000000000000000000000000000000000000000000000000000000000000000000000000000000000000000000000000000000000000000000000000000000000000000000000000000000000000000000000000000000000000000000000000000000000000000000000000000000000000000000000000000000000000000000000000000000000000000000000000000000000000000000000000000000000000000000000000000000000000000000000000000000000000000000000000000000000000000000000000000000000000000000000000000000000000000000000000000000000000000000000000000000000000000000000000000000000000000000000000000000000000000000000000000000000000000000000000000000000000000000000000000000000000000000000000000000000000000000000000000000000000000000000000000000000000000000000000000000000000000000000000000000000000000000000000000000000000000000000000000000000000000000000000000000000000000000000000000000000000000000000000000000000000000000\n"
     ]
    }
   ],
   "source": [
    "#2.13 How Big Can Python Integers Be?\n",
    "a = 10 ** 10\n",
    "print(a)\n",
    "b = 10 ** 100\n",
    "print(b)\n",
    "c = 10 ** 1000\n",
    "print(c)"
   ]
  },
  {
   "cell_type": "code",
   "execution_count": 20,
   "metadata": {},
   "outputs": [
    {
     "name": "stdin",
     "output_type": "stream",
     "text": [
      "Enter a five-digit integer 12345\n"
     ]
    },
    {
     "name": "stdout",
     "output_type": "stream",
     "text": [
      "1     2     3     4     5\n"
     ]
    }
   ],
   "source": [
    "#Optional \n",
    "#2.11 Separating the Digits in an Integer\n",
    "x = int(input('Enter a five-digit integer'))\n",
    "first = x // 10000\n",
    "x = x % 10000\n",
    "second = x // 1000\n",
    "x = x % 1000\n",
    "third = x // 100\n",
    "x = x % 100\n",
    "fourth = x // 10\n",
    "x = x % 10\n",
    "fifth = x\n",
    "print(first, \"   \", second, \"   \", third, \"   \", fourth, \"   \", fifth)"
   ]
  },
  {
   "cell_type": "markdown",
   "metadata": {},
   "source": [
    "I did all the required exercises and fully understand them."
   ]
  }
 ],
 "metadata": {
  "kernelspec": {
   "display_name": "Python 3",
   "language": "python",
   "name": "python3"
  },
  "language_info": {
   "codemirror_mode": {
    "name": "ipython",
    "version": 3
   },
   "file_extension": ".py",
   "mimetype": "text/x-python",
   "name": "python",
   "nbconvert_exporter": "python",
   "pygments_lexer": "ipython3",
   "version": "3.7.3"
  }
 },
 "nbformat": 4,
 "nbformat_minor": 2
}
