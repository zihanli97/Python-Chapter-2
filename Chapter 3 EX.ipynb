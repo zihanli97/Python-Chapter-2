{
 "cells": [
  {
   "cell_type": "code",
   "execution_count": 1,
   "metadata": {},
   "outputs": [
    {
     "name": "stdout",
     "output_type": "stream",
     "text": [
      ">>>>>>>>>>\n",
      "<<<<<<<<<<\n",
      ">>>>>>>>>>\n",
      "<<<<<<<<<<\n",
      ">>>>>>>>>>\n",
      "<<<<<<<<<<\n",
      ">>>>>>>>>>\n",
      "<<<<<<<<<<\n",
      ">>>>>>>>>>\n",
      "<<<<<<<<<<\n"
     ]
    }
   ],
   "source": [
    "# 3.3 What Does This Code Do?\n",
    "for row in range(10):\n",
    "    for column in range(10):\n",
    "        print('<' if row % 2 == 1 else '>', end='')\n",
    "    print()"
   ]
  },
  {
   "cell_type": "markdown",
   "metadata": {},
   "source": [
    "This code will print 10 '<' and a space in odd number row, print 10 '>' and a space in even number row and print 10 rows in total."
   ]
  },
  {
   "cell_type": "code",
   "execution_count": 8,
   "metadata": {},
   "outputs": [
    {
     "name": "stdout",
     "output_type": "stream",
     "text": [
      "The amount you have is 1070.0 after 1 years\n",
      "The amount you have is 1144.9 after 2 years\n",
      "The amount you have is 1225.04 after 3 years\n",
      "The amount you have is 1310.8 after 4 years\n",
      "The amount you have is 1402.55 after 5 years\n",
      "The amount you have is 1500.73 after 6 years\n",
      "The amount you have is 1605.78 after 7 years\n",
      "The amount you have is 1718.19 after 8 years\n",
      "The amount you have is 1838.46 after 9 years\n",
      "The amount you have is 1967.15 after 10 years\n",
      "The amount you have is 2104.85 after 11 years\n",
      "The amount you have is 2252.19 after 12 years\n",
      "The amount you have is 2409.85 after 13 years\n",
      "The amount you have is 2578.53 after 14 years\n",
      "The amount you have is 2759.03 after 15 years\n",
      "The amount you have is 2952.16 after 16 years\n",
      "The amount you have is 3158.82 after 17 years\n",
      "The amount you have is 3379.93 after 18 years\n",
      "The amount you have is 3616.53 after 19 years\n",
      "The amount you have is 3869.68 after 20 years\n",
      "The amount you have is 4140.56 after 21 years\n",
      "The amount you have is 4430.4 after 22 years\n",
      "The amount you have is 4740.53 after 23 years\n",
      "The amount you have is 5072.37 after 24 years\n",
      "The amount you have is 5427.43 after 25 years\n",
      "The amount you have is 5807.35 after 26 years\n",
      "The amount you have is 6213.87 after 27 years\n",
      "The amount you have is 6648.84 after 28 years\n",
      "The amount you have is 7114.26 after 29 years\n",
      "The amount you have is 7612.26 after 30 years\n"
     ]
    }
   ],
   "source": [
    "# 3.10 7% Investment Return\n",
    "p = 1000\n",
    "r = 0.07\n",
    "for n in range(1, 31):\n",
    "    a = p * (1 + r) ** n\n",
    "    print(\"The amount you have is\", round(a, 2), \"after\", n, \"years\")"
   ]
  },
  {
   "cell_type": "code",
   "execution_count": 3,
   "metadata": {},
   "outputs": [
    {
     "name": "stdin",
     "output_type": "stream",
     "text": [
      "Enter an integer 4\n"
     ]
    },
    {
     "name": "stdout",
     "output_type": "stream",
     "text": [
      "24\n"
     ]
    }
   ],
   "source": [
    "#3.13 DS: Factorials\n",
    "a = int(input('Enter an integer'))\n",
    "n = 1\n",
    "for i in range(1, a + 1):\n",
    "    n *= i\n",
    "print(n)"
   ]
  },
  {
   "cell_type": "code",
   "execution_count": null,
   "metadata": {},
   "outputs": [],
   "source": [
    "#3.31 DS: Categorical Data"
   ]
  },
  {
   "cell_type": "markdown",
   "metadata": {},
   "source": [
    "Data like gender, city, and brand."
   ]
  },
  {
   "cell_type": "code",
   "execution_count": null,
   "metadata": {},
   "outputs": [],
   "source": [
    "#3.23 Validating Indentation"
   ]
  },
  {
   "cell_type": "markdown",
   "metadata": {},
   "source": [
    "If we move the second print statement under the i in the if key-word, the third print statment wont work. However, tabnanny will not return an error."
   ]
  },
  {
   "cell_type": "code",
   "execution_count": 32,
   "metadata": {},
   "outputs": [
    {
     "name": "stdout",
     "output_type": "stream",
     "text": [
      "*\n",
      "**\n",
      "***\n",
      "****\n",
      "*****\n",
      "******\n",
      "*******\n",
      "********\n",
      "*********\n",
      "**********\n",
      "**********\n",
      "*********\n",
      "********\n",
      "*******\n",
      "******\n",
      "*****\n",
      "****\n",
      "***\n",
      "**\n",
      "*\n",
      "**********\n",
      " *********\n",
      "  ********\n",
      "   *******\n",
      "    ******\n",
      "     *****\n",
      "      ****\n",
      "       ***\n",
      "        **\n",
      "         *\n",
      "         *\n",
      "        **\n",
      "       ***\n",
      "      ****\n",
      "     *****\n",
      "    ******\n",
      "   *******\n",
      "  ********\n",
      " *********\n",
      "**********\n"
     ]
    }
   ],
   "source": [
    "#3.17 Nested Loops\n",
    "#a)\n",
    "for row in range(10):\n",
    "    for column in range(int(row)+1):\n",
    "        print('*', end='')\n",
    "    print()\n",
    "#b)\n",
    "for row in reversed(range(10)):\n",
    "    for column in range(int(row)+1):\n",
    "        print('*', end='')\n",
    "    print()\n",
    "#c)\n",
    "for row in range(10):\n",
    "    for column in range(10):\n",
    "        if column < row:\n",
    "            print(' ', end='')\n",
    "        else:\n",
    "            print('*', end='')\n",
    "    print()\n",
    "#d)\n",
    "for row in range(10):\n",
    "    for column in range(10):\n",
    "        if column < (9 - row):\n",
    "            print(' ', end='')\n",
    "        else:\n",
    "            print('*', end='')\n",
    "    print()"
   ]
  },
  {
   "cell_type": "code",
   "execution_count": 47,
   "metadata": {},
   "outputs": [
    {
     "name": "stdout",
     "output_type": "stream",
     "text": [
      "3.1415916535897743\n"
     ]
    }
   ],
   "source": [
    "#Optinal EX\n",
    "#3.14 Math Challenge: Approximating the Constant π\n",
    "pie = 4\n",
    "for i in range(1, 1000000):\n",
    "    if i % 2 == 1:\n",
    "        pie -= 4 / (2 * i + 1)\n",
    "    else:\n",
    "        pie += 4 / (2 * i + 1)\n",
    "print(pie)"
   ]
  },
  {
   "cell_type": "markdown",
   "metadata": {},
   "source": [
    "About 600 terms we have 3.14.\n",
    "About 1700 terms we have 3.141.\n",
    "About 11000 terms we have 3.1415.\n",
    "About 1000000 terms we have 3.14159."
   ]
  },
  {
   "cell_type": "code",
   "execution_count": 68,
   "metadata": {},
   "outputs": [
    {
     "name": "stdout",
     "output_type": "stream",
     "text": [
      "*          ********************         *\n",
      "**         *********  *********        **\n",
      "***        ********    ********       ***\n",
      "****       *******      *******      ****\n",
      "*****      ******        ******     *****\n",
      "******     *****          *****    ******\n",
      "*******    ****            ****   *******\n",
      "********   ***              ***  ********\n",
      "*********  **                ** *********\n",
      "********** *                  ***********\n"
     ]
    }
   ],
   "source": [
    "#3.18 Challenge: Nested Looping\n",
    "for row in range(10):\n",
    "    for column in range(41):\n",
    "        if column <= row:\n",
    "            print('*', end='')\n",
    "        elif column <= 10:\n",
    "            print(' ', end='')\n",
    "        elif column <= 20 - row:\n",
    "            print('*', end='')\n",
    "        elif column <= 20 + row:\n",
    "            print(' ', end='')\n",
    "        elif column <= 30:\n",
    "            print('*', end='')\n",
    "        elif column <= 39 - row:\n",
    "            print(' ', end='')\n",
    "        elif column <= 40:\n",
    "            print('*', end='')\n",
    "    print()"
   ]
  },
  {
   "cell_type": "code",
   "execution_count": null,
   "metadata": {},
   "outputs": [],
   "source": [
    "#3.24 Project: Using the prospector Static Code Analysis Tool"
   ]
  },
  {
   "cell_type": "code",
   "execution_count": null,
   "metadata": {},
   "outputs": [],
   "source": [
    "#3.26 DS Research: Anscombe’s Quartet"
   ]
  },
  {
   "cell_type": "markdown",
   "metadata": {},
   "source": [
    "I did all the required exercises and fully understand them."
   ]
  }
 ],
 "metadata": {
  "kernelspec": {
   "display_name": "Python 3",
   "language": "python",
   "name": "python3"
  },
  "language_info": {
   "codemirror_mode": {
    "name": "ipython",
    "version": 3
   },
   "file_extension": ".py",
   "mimetype": "text/x-python",
   "name": "python",
   "nbconvert_exporter": "python",
   "pygments_lexer": "ipython3",
   "version": "3.7.3"
  }
 },
 "nbformat": 4,
 "nbformat_minor": 2
}
